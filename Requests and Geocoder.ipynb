{
 "cells": [
  {
   "cell_type": "markdown",
   "metadata": {},
   "source": [
    "This notebook demonstrate how to scrape information from website using python's `requests` and `BeautifulSoup`, then obtain the latitude and longitude using `geocoder`. `Folium` is used to plot the map.\n",
    "\n",
    "Website used is the [Top 10 Shopping Malls in Penang](http://www.penang.ws/shopping/top10-shopping.htm). =)"
   ]
  },
  {
   "cell_type": "markdown",
   "metadata": {},
   "source": [
    "---"
   ]
  },
  {
   "cell_type": "code",
   "execution_count": 9,
   "metadata": {
    "collapsed": false
   },
   "outputs": [],
   "source": [
    "from bs4 import BeautifulSoup\n",
    "import requests\n",
    "import pandas as pd\n",
    "import re"
   ]
  },
  {
   "cell_type": "markdown",
   "metadata": {},
   "source": [
    "# Scrape from website"
   ]
  },
  {
   "cell_type": "markdown",
   "metadata": {},
   "source": [
    "- Request and get response from the page, response = 200 means successful"
   ]
  },
  {
   "cell_type": "code",
   "execution_count": 10,
   "metadata": {
    "collapsed": false
   },
   "outputs": [
    {
     "data": {
      "text/plain": [
       "<Response [200]>"
      ]
     },
     "execution_count": 10,
     "metadata": {},
     "output_type": "execute_result"
    }
   ],
   "source": [
    "resp = requests.get('http://www.penang.ws/shopping/top10-shopping.htm')\n",
    "resp"
   ]
  },
  {
   "cell_type": "markdown",
   "metadata": {},
   "source": [
    "- Get content of the response, it is the HTML of the page"
   ]
  },
  {
   "cell_type": "code",
   "execution_count": 11,
   "metadata": {
    "collapsed": false
   },
   "outputs": [
    {
     "data": {
      "text/plain": [
       "b'\\n\\n\\n\\n\\n\\n\\n\\n            <!DOCTYPE html>\\n\\n\\n\\n\\n\\n\\n\\n\\n\\n\\n\\n\\n\\n\\n\\n\\n\\n\\n\\n\\n\\n\\n\\n\\n\\n\\n\\n\\n\\n\\n\\n\\n\\n\\n\\n\\n\\n\\n\\n\\n\\n\\n\\n\\n\\n\\n\\n\\n\\n\\n\\n\\n\\n\\n\\n\\n    \\n\\n\\n\\n\\n\\n\\n\\n\\n\\n\\n\\n\\n\\n\\n\\n\\n\\n\\n\\n\\n\\n\\n<html xmlns=\"http://www.w3.org/1999/xhtml\" xmlns:fb=\"http://www.facebook.com/2008/fbml\" itemscope itemtype=\"http://schema.org/Article\" lang=\"en-US\" class=\"js flexbox flexboxlegacy responsive-css\">\\n<head>\\n  <title>Top 10 Shopping Malls In Penang - Best places to shop in Penang</title>\\n  <meta name=\"description\" content=\"From malls with exciting basement dance clubs and live puzzle rooms to marina frontage shopping centres and onsite museums, our list of the Top 10 Shopping Malls in Penang certainly has something for everyone. Though the street market scene in Penang receives a lot of media coverage, we are fans of these air conditioned retail-havens because more often than not, there are many deals to be had for the serious bargain hunter.\">\\n  <meta name=\"keywords\" content=\"Top 10 Shopping Malls In Penang, Best places to shop in Penang\">\\n  <meta name=\"googlebot\" content'"
      ]
     },
     "execution_count": 11,
     "metadata": {},
     "output_type": "execute_result"
    }
   ],
   "source": [
    "data = resp.content\n",
    "data[:1000]"
   ]
  },
  {
   "cell_type": "markdown",
   "metadata": {},
   "source": [
    "- Use [BeautifulSoup](https://www.crummy.com/software/BeautifulSoup/bs4/doc/) to parse the html into tree "
   ]
  },
  {
   "cell_type": "code",
   "execution_count": 12,
   "metadata": {
    "collapsed": false
   },
   "outputs": [],
   "source": [
    "soup = BeautifulSoup(data, 'html.parser')"
   ]
  },
  {
   "cell_type": "markdown",
   "metadata": {},
   "source": [
    "- Start Extracting the information using `find_all`, `find_next` and regex"
   ]
  },
  {
   "cell_type": "code",
   "execution_count": 13,
   "metadata": {
    "collapsed": false,
    "scrolled": true
   },
   "outputs": [],
   "source": [
    "df_records = []\n",
    "for div in soup.find_all('div',{'class','top10_item_wrapper'}):\n",
    "    paragraph = div.find_next('p')\n",
    "    info = paragraph.text\n",
    "    row={}\n",
    "    title = div.find_next('span',{'class':'top_itemListing_title'})\n",
    "    try:\n",
    "        row['Name'] = title.text.strip() or title.find_next('a').text.strip()\n",
    "    except:\n",
    "        pass\n",
    "    row['Open'] = re.search('Open: (.+) Address',info).group(1)\n",
    "    row['Address'] = re.search('Address: (.+) Tel',info).group(1)\n",
    "    row['Tel'] = re.search('Tel: (\\+|)(\\d+)(\\s\\d+\\s\\d+)',info).groups()\n",
    "    row['Tel'] = ''.join(row['Tel'][:2])+'-'+''.join(row['Tel'][2:]).replace(' ','')\n",
    "    row['link'] = paragraph.find_next('a')['href']\n",
    "    df_records.append(row)\n",
    "    \n",
    "df = pd.DataFrame.from_records(df_records, columns = ['Name','Open','Tel','Address','link'])"
   ]
  },
  {
   "cell_type": "code",
   "execution_count": 14,
   "metadata": {
    "collapsed": false,
    "scrolled": true
   },
   "outputs": [
    {
     "data": {
      "text/html": [
       "<div>\n",
       "<table border=\"1\" class=\"dataframe\">\n",
       "  <thead>\n",
       "    <tr style=\"text-align: right;\">\n",
       "      <th></th>\n",
       "      <th>Name</th>\n",
       "      <th>Open</th>\n",
       "      <th>Tel</th>\n",
       "      <th>Address</th>\n",
       "      <th>link</th>\n",
       "    </tr>\n",
       "  </thead>\n",
       "  <tbody>\n",
       "    <tr>\n",
       "      <th>0</th>\n",
       "      <td>Gurney Paragon</td>\n",
       "      <td>10:00 – 22:00</td>\n",
       "      <td>+604-2288266</td>\n",
       "      <td>163 C &amp; D, Persiaran Gurney, Georgetown</td>\n",
       "      <td>http://www.penang.ws/shopping/gurney-paragon-m...</td>\n",
       "    </tr>\n",
       "    <tr>\n",
       "      <th>1</th>\n",
       "      <td>1st Avenue Mall</td>\n",
       "      <td>10:00 – 22:00</td>\n",
       "      <td>+604-2611121</td>\n",
       "      <td>Jalan Magazine, Georgetown, 10300 Georgetown</td>\n",
       "      <td>http://www.penang.ws/shopping/gurney-plaza.htm</td>\n",
       "    </tr>\n",
       "    <tr>\n",
       "      <th>2</th>\n",
       "      <td>Gurney Plaza</td>\n",
       "      <td>10:00 – 22:00</td>\n",
       "      <td>+604-2281111</td>\n",
       "      <td>170-06-01, Persiaran Gurney, 10250 Georgetown</td>\n",
       "      <td>http://www.penang.ws/shopping/gurney-plaza.htm</td>\n",
       "    </tr>\n",
       "    <tr>\n",
       "      <th>3</th>\n",
       "      <td>Queensbay Mall</td>\n",
       "      <td>10:00 – 22:00</td>\n",
       "      <td>+604-6198989</td>\n",
       "      <td>100, Persiaran Bayan Indah, Queens Bay, 14300 ...</td>\n",
       "      <td>http://www.penang.ws/shopping/queensbay-mall.htm</td>\n",
       "    </tr>\n",
       "    <tr>\n",
       "      <th>4</th>\n",
       "      <td>Straits Quay</td>\n",
       "      <td>10:30 – 22:30</td>\n",
       "      <td>+604-8918000</td>\n",
       "      <td>3F-G-1 Straits Quay, Jalan Seri Tanjung Pinang...</td>\n",
       "      <td>http://www.penang.ws/penang-attractions/komtar...</td>\n",
       "    </tr>\n",
       "  </tbody>\n",
       "</table>\n",
       "</div>"
      ],
      "text/plain": [
       "              Name             Open           Tel  \\\n",
       "0   Gurney Paragon  10:00 – 22:00    +604-2288266   \n",
       "1  1st Avenue Mall  10:00 – 22:00    +604-2611121   \n",
       "2     Gurney Plaza   10:00 – 22:00   +604-2281111   \n",
       "3   Queensbay Mall  10:00 – 22:00    +604-6198989   \n",
       "4     Straits Quay  10:30 – 22:30    +604-8918000   \n",
       "\n",
       "                                             Address  \\\n",
       "0           163 C & D, Persiaran Gurney, Georgetown    \n",
       "1      Jalan Magazine, Georgetown, 10300 Georgetown    \n",
       "2      170-06-01, Persiaran Gurney, 10250 Georgetown   \n",
       "3  100, Persiaran Bayan Indah, Queens Bay, 14300 ...   \n",
       "4  3F-G-1 Straits Quay, Jalan Seri Tanjung Pinang...   \n",
       "\n",
       "                                                link  \n",
       "0  http://www.penang.ws/shopping/gurney-paragon-m...  \n",
       "1     http://www.penang.ws/shopping/gurney-plaza.htm  \n",
       "2     http://www.penang.ws/shopping/gurney-plaza.htm  \n",
       "3   http://www.penang.ws/shopping/queensbay-mall.htm  \n",
       "4  http://www.penang.ws/penang-attractions/komtar...  "
      ]
     },
     "execution_count": 14,
     "metadata": {},
     "output_type": "execute_result"
    }
   ],
   "source": [
    "df.head()"
   ]
  },
  {
   "cell_type": "markdown",
   "metadata": {},
   "source": [
    "# Get Latitude Longitude from google map API"
   ]
  },
  {
   "cell_type": "code",
   "execution_count": 7,
   "metadata": {
    "collapsed": false
   },
   "outputs": [],
   "source": [
    "def get_lat_lon(x):\n",
    "    google_map_url = 'https://maps.googleapis.com/maps/api/geocode/json'\n",
    "    params = {'sensor': 'false', 'address': x}\n",
    "    r = requests.get(url, params=params)\n",
    "    results = r.json()['results']\n",
    "    location = results[0]['geometry']['location']\n",
    "    return [location['lat'], location['lng']]\n",
    "\n",
    "df['lat_lon'] = df['Address'].map(get_lat_lon)"
   ]
  },
  {
   "cell_type": "code",
   "execution_count": 17,
   "metadata": {
    "collapsed": false
   },
   "outputs": [
    {
     "data": {
      "text/html": [
       "<div>\n",
       "<table border=\"1\" class=\"dataframe\">\n",
       "  <thead>\n",
       "    <tr style=\"text-align: right;\">\n",
       "      <th></th>\n",
       "      <th>Name</th>\n",
       "      <th>Open</th>\n",
       "      <th>Tel</th>\n",
       "      <th>Address</th>\n",
       "      <th>link</th>\n",
       "      <th>lat_lon</th>\n",
       "    </tr>\n",
       "  </thead>\n",
       "  <tbody>\n",
       "    <tr>\n",
       "      <th>0</th>\n",
       "      <td>Gurney Paragon</td>\n",
       "      <td>10:00 – 22:00</td>\n",
       "      <td>+604-2288266</td>\n",
       "      <td>163 C &amp; D, Persiaran Gurney, Georgetown</td>\n",
       "      <td>http://www.penang.ws/shopping/gurney-paragon-m...</td>\n",
       "      <td>[5.4301091, 100.3191816]</td>\n",
       "    </tr>\n",
       "    <tr>\n",
       "      <th>1</th>\n",
       "      <td>1st Avenue Mall</td>\n",
       "      <td>10:00 – 22:00</td>\n",
       "      <td>+604-2611121</td>\n",
       "      <td>Jalan Magazine, Georgetown, 10300 Georgetown</td>\n",
       "      <td>http://www.penang.ws/shopping/gurney-plaza.htm</td>\n",
       "      <td>[5.412475100000001, 100.3319939]</td>\n",
       "    </tr>\n",
       "    <tr>\n",
       "      <th>2</th>\n",
       "      <td>Gurney Plaza</td>\n",
       "      <td>10:00 – 22:00</td>\n",
       "      <td>+604-2281111</td>\n",
       "      <td>170-06-01, Persiaran Gurney, 10250 Georgetown</td>\n",
       "      <td>http://www.penang.ws/shopping/gurney-plaza.htm</td>\n",
       "      <td>[5.438604, 100.3102962]</td>\n",
       "    </tr>\n",
       "    <tr>\n",
       "      <th>3</th>\n",
       "      <td>Queensbay Mall</td>\n",
       "      <td>10:00 – 22:00</td>\n",
       "      <td>+604-6198989</td>\n",
       "      <td>100, Persiaran Bayan Indah, Queens Bay, 14300 ...</td>\n",
       "      <td>http://www.penang.ws/shopping/queensbay-mall.htm</td>\n",
       "      <td>[5.3330303, 100.3064679]</td>\n",
       "    </tr>\n",
       "    <tr>\n",
       "      <th>4</th>\n",
       "      <td>Straits Quay</td>\n",
       "      <td>10:30 – 22:30</td>\n",
       "      <td>+604-8918000</td>\n",
       "      <td>3F-G-1 Straits Quay, Jalan Seri Tanjung Pinang...</td>\n",
       "      <td>http://www.penang.ws/penang-attractions/komtar...</td>\n",
       "      <td>[5.4582153, 100.3131533]</td>\n",
       "    </tr>\n",
       "  </tbody>\n",
       "</table>\n",
       "</div>"
      ],
      "text/plain": [
       "              Name             Open           Tel  \\\n",
       "0   Gurney Paragon  10:00 – 22:00    +604-2288266   \n",
       "1  1st Avenue Mall  10:00 – 22:00    +604-2611121   \n",
       "2     Gurney Plaza   10:00 – 22:00   +604-2281111   \n",
       "3   Queensbay Mall  10:00 – 22:00    +604-6198989   \n",
       "4     Straits Quay  10:30 – 22:30    +604-8918000   \n",
       "\n",
       "                                             Address  \\\n",
       "0           163 C & D, Persiaran Gurney, Georgetown    \n",
       "1      Jalan Magazine, Georgetown, 10300 Georgetown    \n",
       "2      170-06-01, Persiaran Gurney, 10250 Georgetown   \n",
       "3  100, Persiaran Bayan Indah, Queens Bay, 14300 ...   \n",
       "4  3F-G-1 Straits Quay, Jalan Seri Tanjung Pinang...   \n",
       "\n",
       "                                                link  \\\n",
       "0  http://www.penang.ws/shopping/gurney-paragon-m...   \n",
       "1     http://www.penang.ws/shopping/gurney-plaza.htm   \n",
       "2     http://www.penang.ws/shopping/gurney-plaza.htm   \n",
       "3   http://www.penang.ws/shopping/queensbay-mall.htm   \n",
       "4  http://www.penang.ws/penang-attractions/komtar...   \n",
       "\n",
       "                            lat_lon  \n",
       "0          [5.4301091, 100.3191816]  \n",
       "1  [5.412475100000001, 100.3319939]  \n",
       "2           [5.438604, 100.3102962]  \n",
       "3          [5.3330303, 100.3064679]  \n",
       "4          [5.4582153, 100.3131533]  "
      ]
     },
     "execution_count": 17,
     "metadata": {},
     "output_type": "execute_result"
    }
   ],
   "source": [
    "df.head()"
   ]
  },
  {
   "cell_type": "markdown",
   "metadata": {},
   "source": [
    "# Plot on map"
   ]
  },
  {
   "cell_type": "markdown",
   "metadata": {},
   "source": [
    "- Use html popup and custom icon"
   ]
  },
  {
   "cell_type": "code",
   "execution_count": 90,
   "metadata": {
    "collapsed": false
   },
   "outputs": [],
   "source": [
    "import folium\n",
    "\n",
    "penang_lat_lon = get_lat_lon('Penang, Malaysia')\n",
    "m = folium.Map(penang_lat_lon, zoom_start=12) \n",
    "\n",
    "def frame(Name, Open, Tel, **kwargs):\n",
    "    html='''<pre style=\"font-size: 10pt; color: blue; font-family: Times New Roman\">\\\n",
    "Mall   :{0}\n",
    "Open :{1}\n",
    "Tel    :{2}\n",
    "            </pre>'''.format(Name, Open, Tel)\n",
    "    return folium.IFrame(html=html, width=150,height=87)\n",
    "    \n",
    "for i in df.to_dict(orient='records'):\n",
    "    lat_lon = i['lat_lon']\n",
    "    popup = folium.Popup(frame(**i), max_width=2650)\n",
    "    icon = folium.features.CustomIcon('https://d30y9cdsu7xlg0.cloudfront.net/png/54619-200.png',icon_size=(30, 30))\n",
    "    folium.map.Marker(\n",
    "        lat_lon,\n",
    "        popup = popup,\n",
    "        icon=icon,\n",
    "        ).add_to(m)"
   ]
  },
  {
   "cell_type": "code",
   "execution_count": 91,
   "metadata": {
    "collapsed": false
   },
   "outputs": [
    {
     "data": {
      "text/html": [
       "<div style=\"width:100%;\"><div style=\"position:relative;width:100%;height:0;padding-bottom:60%;\"><iframe src=\"data:text/html;charset=utf-8;base64,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\" style=\"position:absolute;width:100%;height:100%;left:0;top:0;border:none !important;\" allowfullscreen webkitallowfullscreen mozallowfullscreen></iframe></div></div>"
      ],
      "text/plain": [
       "<folium.folium.Map at 0xb7d9128>"
      ]
     },
     "execution_count": 91,
     "metadata": {},
     "output_type": "execute_result"
    }
   ],
   "source": [
    "m"
   ]
  },
  {
   "cell_type": "code",
   "execution_count": null,
   "metadata": {
    "collapsed": true
   },
   "outputs": [],
   "source": []
  }
 ],
 "metadata": {
  "kernelspec": {
   "display_name": "Python 3",
   "language": "python",
   "name": "python3"
  },
  "language_info": {
   "codemirror_mode": {
    "name": "ipython",
    "version": 3
   },
   "file_extension": ".py",
   "mimetype": "text/x-python",
   "name": "python",
   "nbconvert_exporter": "python",
   "pygments_lexer": "ipython3",
   "version": "3.6.0"
  }
 },
 "nbformat": 4,
 "nbformat_minor": 2
}
